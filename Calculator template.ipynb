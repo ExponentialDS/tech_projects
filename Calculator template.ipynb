{
 "cells": [
  {
   "cell_type": "markdown",
   "id": "3005df1f",
   "metadata": {},
   "source": [
    "# Random number genearator calculator"
   ]
  },
  {
   "cell_type": "code",
   "execution_count": null,
   "id": "b5587cf3",
   "metadata": {},
   "outputs": [],
   "source": [
    "for i in range(1,1000):\n",
    "    print(i)"
   ]
  },
  {
   "cell_type": "code",
   "execution_count": null,
   "id": "35cac57f",
   "metadata": {},
   "outputs": [],
   "source": [
    "input(\"What number do you want to multiply\")"
   ]
  },
  {
   "cell_type": "code",
   "execution_count": null,
   "id": "cf661cc5",
   "metadata": {},
   "outputs": [],
   "source": [
    "import numpy as np"
   ]
  },
  {
   "cell_type": "code",
   "execution_count": null,
   "id": "fc83ef95",
   "metadata": {},
   "outputs": [],
   "source": [
    "import random\n",
    "\n",
    "# Generate a random integer between 1 and 10\n",
    "random_number = random.randint(1, 10)\n",
    "\n",
    "print(random_number)"
   ]
  },
  {
   "cell_type": "code",
   "execution_count": null,
   "id": "c8b2bf94",
   "metadata": {},
   "outputs": [],
   "source": [
    "x  = input(\"What number do you want to multiply\")"
   ]
  },
  {
   "cell_type": "code",
   "execution_count": null,
   "id": "d748a164",
   "metadata": {},
   "outputs": [],
   "source": [
    "t = int(x) * int(random_number)"
   ]
  },
  {
   "cell_type": "code",
   "execution_count": null,
   "id": "29db9660",
   "metadata": {},
   "outputs": [],
   "source": [
    "t"
   ]
  },
  {
   "cell_type": "code",
   "execution_count": null,
   "id": "50443038",
   "metadata": {},
   "outputs": [],
   "source": []
  },
  {
   "cell_type": "code",
   "execution_count": null,
   "id": "f985a476",
   "metadata": {},
   "outputs": [],
   "source": [
    "type(x)"
   ]
  },
  {
   "cell_type": "code",
   "execution_count": 1,
   "id": "f7ecce71",
   "metadata": {},
   "outputs": [
    {
     "name": "stdout",
     "output_type": "stream",
     "text": [
      "which type of sum do you wan to do? \n",
      " x, /, + or -\n",
      "+\n"
     ]
    }
   ],
   "source": [
    "print(\"which type of sum do you wan to do? \\n x, /, + or -\")\n",
    "ans = input('')"
   ]
  },
  {
   "cell_type": "code",
   "execution_count": 8,
   "id": "81de3f78",
   "metadata": {},
   "outputs": [
    {
     "name": "stdout",
     "output_type": "stream",
     "text": [
      "generate two random numbers between two values\n",
      "What is your first number: 34\n",
      "What is your second number: 3424\n",
      "The first random number generated is 58\n",
      "The second random number generated is 785\n"
     ]
    }
   ],
   "source": [
    "import random\n",
    "print(\"generate two random numbers between two values\")\n",
    "\n",
    "number_one = int(input(\"What is your first number: \"))\n",
    "number_two = int(input(\"What is your second number: \"))\n",
    "\n",
    "random_number_one = random.randint(number_one, number_two)\n",
    "print(\"The first random number generated is\", random_number_one)\n",
    "\n",
    "random_number_two = random.randint(number_one, number_two)\n",
    "print(\"The second random number generated is\", random_number_two)"
   ]
  },
  {
   "cell_type": "code",
   "execution_count": 10,
   "id": "52b60c72",
   "metadata": {},
   "outputs": [
    {
     "name": "stdout",
     "output_type": "stream",
     "text": [
      "which type of sum do you wan to do? \n",
      " x, /, + or -\n",
      "+\n"
     ]
    }
   ],
   "source": [
    "# Funciton calculator\n",
    "\n",
    "print(\"which type of sum do you wan to do? \\n x, /, + or -\")\n",
    "ans = input('')"
   ]
  },
  {
   "cell_type": "code",
   "execution_count": 12,
   "id": "f14c429c",
   "metadata": {},
   "outputs": [
    {
     "name": "stdout",
     "output_type": "stream",
     "text": [
      "which type of sum do you wan to do? \n",
      " x, /, + or -\n",
      "+\n"
     ]
    }
   ],
   "source": [
    "# Funciton calculator\n",
    "\n",
    "print(\"which type of sum do you wan to do? \\n x, /, + or -\")\n",
    "ans = input('')\n",
    "if ans == \"=\":\n",
    "    print(random_number_one + random_number_two)"
   ]
  },
  {
   "cell_type": "code",
   "execution_count": 13,
   "id": "33c5f9e6",
   "metadata": {},
   "outputs": [
    {
     "name": "stdout",
     "output_type": "stream",
     "text": [
      "Which type of sum do you want to do? \n",
      " x, /, + or -\n",
      "+\n",
      "843\n"
     ]
    }
   ],
   "source": [
    "print(\"Which type of sum do you want to do? \\n x, /, + or -\")\n",
    "ans = input('')\n",
    "\n",
    "if ans == \"+\":\n",
    "    print(random_number_one + random_number_two)\n",
    "elif ans == \"-\":\n",
    "    print(random_number_one - random_number_two)\n",
    "elif ans == \"x\":\n",
    "    print(random_number_one * random_number_two)\n",
    "elif ans == \"/\":\n",
    "    print(random_number_one / random_number_two)\n",
    "else:\n",
    "    print(\"Invalid operator\")"
   ]
  },
  {
   "cell_type": "code",
   "execution_count": 14,
   "id": "58c08c05",
   "metadata": {},
   "outputs": [
    {
     "name": "stdout",
     "output_type": "stream",
     "text": [
      "generate two random numbers between two values\n",
      "What is your first number: 2\n",
      "What is your second number: 4\n",
      "The first random number generated is 3\n",
      "The second random number generated is 4\n",
      "Which type of sum do you want to do? \n",
      " x, /, + or -\n",
      "x\n",
      "12\n"
     ]
    }
   ],
   "source": [
    "import random\n",
    "print(\"generate two random numbers between two values\")\n",
    "\n",
    "number_one = int(input(\"What is your first number: \"))\n",
    "number_two = int(input(\"What is your second number: \"))\n",
    "\n",
    "random_number_one = random.randint(number_one, number_two)\n",
    "print(\"The first random number generated is\", random_number_one)\n",
    "\n",
    "random_number_two = random.randint(number_one, number_two)\n",
    "print(\"The second random number generated is\", random_number_two)\n",
    "\n",
    "\n",
    "print(\"Which type of sum do you want to do? \\n x, /, + or -\")\n",
    "ans = input('')\n",
    "\n",
    "if ans == \"+\":\n",
    "    print(random_number_one + random_number_two)\n",
    "elif ans == \"-\":\n",
    "    print(random_number_one - random_number_two)\n",
    "elif ans == \"x\":\n",
    "    print(random_number_one * random_number_two)\n",
    "elif ans == \"/\":\n",
    "    print(random_number_one / random_number_two)\n",
    "else:\n",
    "    print(\"Invalid operator\")"
   ]
  },
  {
   "cell_type": "code",
   "execution_count": 16,
   "id": "f0b9bc45",
   "metadata": {},
   "outputs": [
    {
     "name": "stdout",
     "output_type": "stream",
     "text": [
      "generate two random numbers between two values\n",
      "What is your first number: 2004\n",
      "What is your second number: 3\n",
      "The first random number generated is 1346\n",
      "The second random number generated is 1649\n",
      "Which type of sum do you want to do? \n",
      " x, /, + or -\n",
      "/\n",
      "0.8162522741055185\n"
     ]
    }
   ],
   "source": [
    "# This code first checks if number_one is greater than number_two. \n",
    "# If it is, it swaps the values of number_one and number_two using tuple assignment. \n",
    "# Then it generates the random numbers using the updated values of number_one and number_two. \n",
    "# This ensures that the random numbers are always generated between the two given values, regardless of which one is larger.\n",
    "\n",
    "import random\n",
    "\n",
    "print(\"generate two random numbers between two values\")\n",
    "\n",
    "number_one = int(input(\"What is your first number: \"))\n",
    "number_two = int(input(\"What is your second number: \"))\n",
    "\n",
    "if number_one > number_two:\n",
    "    number_one, number_two = number_two, number_one\n",
    "\n",
    "random_number_one = random.randint(number_one, number_two)\n",
    "print(\"The first random number generated is\", random_number_one)\n",
    "\n",
    "random_number_two = random.randint(number_one, number_two)\n",
    "print(\"The second random number generated is\", random_number_two)\n",
    "\n",
    "print(\"Which type of sum do you want to do? \\n x, /, + or -\")\n",
    "ans = input('')\n",
    "\n",
    "if ans == \"+\":\n",
    "    print(random_number_one + random_number_two)\n",
    "elif ans == \"-\":\n",
    "    print(random_number_one - random_number_two)\n",
    "elif ans == \"x\":\n",
    "    print(random_number_one * random_number_two)\n",
    "elif ans == \"/\":\n",
    "    print(random_number_one / random_number_two)\n",
    "else:\n",
    "    print(\"Invalid operator\")\n"
   ]
  },
  {
   "cell_type": "code",
   "execution_count": 17,
   "id": "0ebf647d",
   "metadata": {},
   "outputs": [
    {
     "name": "stdout",
     "output_type": "stream",
     "text": [
      "generate two random numbers between two values\n",
      "What is your first number: 243254\n",
      "What is your second number: 34232342\n",
      "The first random number generated is 23687432\n",
      "The second random number generated is 1837507\n",
      "Which type of sum do you want to do? \n",
      " x, /, + or -\n",
      "-\n",
      "21849925\n",
      "Do you want to perform another calculation? (y/n) y\n",
      "generate two random numbers between two values\n",
      "What is your first number: 22423423\n",
      "What is your second number: 2323\n",
      "The first random number generated is 9642462\n",
      "The second random number generated is 18575245\n",
      "Which type of sum do you want to do? \n",
      " x, /, + or -\n",
      "/\n",
      "0.5191028166788648\n",
      "Do you want to perform another calculation? (y/n) n\n"
     ]
    }
   ],
   "source": [
    "import random\n",
    "\n",
    "while True:  # This will create an infinite loop\n",
    "    print(\"generate two random numbers between two values\")\n",
    "\n",
    "    number_one = int(input(\"What is your first number: \"))\n",
    "    number_two = int(input(\"What is your second number: \"))\n",
    "\n",
    "    if number_one > number_two:\n",
    "        number_one, number_two = number_two, number_one\n",
    "\n",
    "    random_number_one = random.randint(number_one, number_two)\n",
    "    print(\"The first random number generated is\", random_number_one)\n",
    "\n",
    "    random_number_two = random.randint(number_one, number_two)\n",
    "    print(\"The second random number generated is\", random_number_two)\n",
    "\n",
    "    print(\"Which type of sum do you want to do? \\n x, /, + or -\")\n",
    "    ans = input('')\n",
    "\n",
    "    if ans == \"+\":\n",
    "        result = random_number_one + random_number_two\n",
    "    elif ans == \"-\":\n",
    "        result = random_number_one - random_number_two\n",
    "    elif ans == \"x\":\n",
    "        result = random_number_one * random_number_two\n",
    "    elif ans == \"/\":\n",
    "        result = random_number_one / random_number_two\n",
    "    else:\n",
    "        result = \"Invalid operator\"\n",
    "\n",
    "    print(result)  # Print the result of the calculation\n",
    "\n",
    "    # Ask the user if they want to perform another calculation\n",
    "    another = input(\"Do you want to perform another calculation? (y/n) \")\n",
    "    if another.lower() == \"n\":  # If the user enters \"n\", exit the loop\n",
    "        break"
   ]
  },
  {
   "cell_type": "code",
   "execution_count": 18,
   "id": "ac64c757",
   "metadata": {},
   "outputs": [
    {
     "name": "stdout",
     "output_type": "stream",
     "text": [
      "generate two random numbers between two values\n",
      "What is your first number: 3t\n",
      "Please enter a valid number\n",
      "What is your first number: 235g\n",
      "Please enter a valid number\n",
      "What is your first number: 112\n",
      "What is your second number: 33g\n",
      "Please enter a valid number\n",
      "What is your second number: 3322\n",
      "The first random number generated is 306\n",
      "The second random number generated is 115\n",
      "Which type of sum do you want to do? \n",
      " x, /, + or - 23253525\n",
      "Please enter a valid operator\n",
      "Which type of sum do you want to do? \n",
      " x, /, + or - x\n",
      "35190\n",
      "Do you want to perform another calculation? (y/n) n\n"
     ]
    }
   ],
   "source": [
    "import random\n",
    "\n",
    "while True:  # This will create an infinite loop\n",
    "    print(\"generate two random numbers between two values\")\n",
    "\n",
    "    # Validate the input for the first number\n",
    "    while True:\n",
    "        number_one = input(\"What is your first number: \")\n",
    "        if number_one.isdigit():  # Check if the input is a valid integer\n",
    "            number_one = int(number_one)  # Convert the input to an integer\n",
    "            break  # Exit the inner loop\n",
    "        else:\n",
    "            print(\"Please enter a valid number\")  # Print an error message\n",
    "\n",
    "    # Validate the input for the second number\n",
    "    while True:\n",
    "        number_two = input(\"What is your second number: \")\n",
    "        if number_two.isdigit():  # Check if the input is a valid integer\n",
    "            number_two = int(number_two)  # Convert the input to an integer\n",
    "            break  # Exit the inner loop\n",
    "        else:\n",
    "            print(\"Please enter a valid number\")  # Print an error message\n",
    "\n",
    "    if number_one > number_two:  # Swap the numbers if necessary\n",
    "        number_one, number_two = number_two, number_one\n",
    "\n",
    "    random_number_one = random.randint(number_one, number_two)\n",
    "    print(\"The first random number generated is\", random_number_one)\n",
    "\n",
    "    random_number_two = random.randint(number_one, number_two)\n",
    "    print(\"The second random number generated is\", random_number_two)\n",
    "\n",
    "    # Validate the input for the operator\n",
    "    while True:\n",
    "        ans = input(\"Which type of sum do you want to do? \\n x, /, + or - \")\n",
    "        if ans in [\"+\", \"-\", \"x\", \"/\"]:  # Check if the input is a valid operator\n",
    "            break  # Exit the inner loop\n",
    "        else:\n",
    "            print(\"Please enter a valid operator\")  # Print an error message\n",
    "\n",
    "    if ans == \"+\":\n",
    "        result = random_number_one + random_number_two\n",
    "    elif ans == \"-\":\n",
    "        result = random_number_one - random_number_two\n",
    "    elif ans == \"x\":\n",
    "        result = random_number_one * random_number_two\n",
    "    elif ans == \"/\":\n",
    "        result = random_number_one / random_number_two\n",
    "    else:\n",
    "        result = \"Invalid operator\"  # This should never happen\n",
    "\n",
    "    print(result)  # Print the result of the calculation\n",
    "\n",
    "    # Ask the user if they want to perform another calculation\n",
    "    another = input(\"Do you want to perform another calculation? (y/n) \")\n",
    "    if another.lower() == \"n\":  # If the user enters \"n\", exit the loop\n",
    "        break"
   ]
  },
  {
   "cell_type": "code",
   "execution_count": null,
   "id": "b873083c",
   "metadata": {},
   "outputs": [],
   "source": []
  }
 ],
 "metadata": {
  "kernelspec": {
   "display_name": "Python 3 (ipykernel)",
   "language": "python",
   "name": "python3"
  },
  "language_info": {
   "codemirror_mode": {
    "name": "ipython",
    "version": 3
   },
   "file_extension": ".py",
   "mimetype": "text/x-python",
   "name": "python",
   "nbconvert_exporter": "python",
   "pygments_lexer": "ipython3",
   "version": "3.9.12"
  }
 },
 "nbformat": 4,
 "nbformat_minor": 5
}
